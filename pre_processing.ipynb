{
 "cells": [
  {
   "cell_type": "code",
   "execution_count": 1,
   "id": "ab10911a",
   "metadata": {},
   "outputs": [],
   "source": [
    "import cv2\n",
    "import numpy as np\n",
    "import os"
   ]
  },
  {
   "cell_type": "code",
   "execution_count": 2,
   "id": "6db195ac",
   "metadata": {},
   "outputs": [],
   "source": [
    "data_dir = 'train/'\n",
    "\n",
    "training_data = []\n",
    "\n",
    "label_count = -1\n",
    "\n",
    "for i in os.listdir(data_dir):\n",
    "    label_count += 1\n",
    "    for j in os.listdir(data_dir + i + '/'):\n",
    "        img_arr = cv2.imread(data_dir + i + '/' + j)\n",
    "        label = np.zeros(99)\n",
    "        label[label_count] = 1\n",
    "        training_data.append([img_arr,label])        "
   ]
  },
  {
   "cell_type": "code",
   "execution_count": 3,
   "id": "b78a8989",
   "metadata": {},
   "outputs": [],
   "source": [
    "testing_data = []\n",
    "\n",
    "label_count = -1\n",
    "\n",
    "for i in os.listdir(data_dir):\n",
    "    label_count += 1\n",
    "    for j in os.listdir(data_dir + i + '/'):\n",
    "        img_arr = cv2.imread(data_dir + i + '/' + j)\n",
    "        label = np.zeros(99)\n",
    "        label[label_count] = 1\n",
    "        testing_data.append([img_arr,label])\n",
    "        break"
   ]
  },
  {
   "cell_type": "code",
   "execution_count": 4,
   "id": "abf9462e",
   "metadata": {},
   "outputs": [],
   "source": [
    "import random\n",
    "\n",
    "random.shuffle(training_data)"
   ]
  },
  {
   "cell_type": "code",
   "execution_count": 5,
   "id": "2f02307d",
   "metadata": {},
   "outputs": [],
   "source": [
    "x = []\n",
    "y = []\n",
    "\n",
    "for img_arr, label in training_data:\n",
    "    x.append(img_arr)\n",
    "    y.append(label)\n",
    "    \n",
    "x = np.array(x)\n",
    "y = np.array(y)"
   ]
  },
  {
   "cell_type": "code",
   "execution_count": 6,
   "id": "0be8c3a7",
   "metadata": {},
   "outputs": [],
   "source": [
    "x_test = []\n",
    "y_test = []\n",
    "\n",
    "for img_arr, label in testing_data:\n",
    "    x_test.append(img_arr)\n",
    "    y_test.append(label)\n",
    "    \n",
    "x_test = np.array(x_test)\n",
    "y_test = np.array(y_test)"
   ]
  },
  {
   "cell_type": "code",
   "execution_count": 7,
   "id": "9b77ab69",
   "metadata": {},
   "outputs": [],
   "source": [
    "x = x / 255\n",
    "x_test = x_test / 255"
   ]
  },
  {
   "cell_type": "code",
   "execution_count": 8,
   "id": "cefc0d24",
   "metadata": {},
   "outputs": [],
   "source": [
    "with open('inputs.npy','wb') as f:\n",
    "    np.save(f, x)\n",
    "\n",
    "with open('targets.npy', 'wb') as f:\n",
    "    np.save(f, y)"
   ]
  },
  {
   "cell_type": "code",
   "execution_count": 9,
   "id": "5af01f5e",
   "metadata": {},
   "outputs": [],
   "source": [
    "with open('test_inputs.npy','wb') as f:\n",
    "    np.save(f, x_test)\n",
    "\n",
    "with open('test_targets.npy', 'wb') as f:\n",
    "    np.save(f, y_test)"
   ]
  },
  {
   "cell_type": "code",
   "execution_count": null,
   "id": "22afd330",
   "metadata": {},
   "outputs": [],
   "source": []
  }
 ],
 "metadata": {
  "kernelspec": {
   "display_name": "TF Alpha",
   "language": "python",
   "name": "tf_alpha"
  },
  "language_info": {
   "codemirror_mode": {
    "name": "ipython",
    "version": 3
   },
   "file_extension": ".py",
   "mimetype": "text/x-python",
   "name": "python",
   "nbconvert_exporter": "python",
   "pygments_lexer": "ipython3",
   "version": "3.7.13"
  }
 },
 "nbformat": 4,
 "nbformat_minor": 5
}
