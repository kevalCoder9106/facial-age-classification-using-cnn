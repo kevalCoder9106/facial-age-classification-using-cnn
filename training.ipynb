{
 "cells": [
  {
   "cell_type": "code",
   "execution_count": 2,
   "id": "e04b29f3",
   "metadata": {},
   "outputs": [],
   "source": [
    "import tensorflow as tf\n",
    "from tensorflow.keras import layers, models\n",
    "\n",
    "import numpy as np"
   ]
  },
  {
   "cell_type": "code",
   "execution_count": 3,
   "id": "8be1b907",
   "metadata": {},
   "outputs": [],
   "source": [
    "x = np.load('labeled_data/inputs.npy')\n",
    "y = np.load('labeled_data/targets.npy')"
   ]
  },
  {
   "cell_type": "code",
   "execution_count": 4,
   "id": "d9e59127",
   "metadata": {},
   "outputs": [],
   "source": [
    "test_x = np.load('labeled_data/test_inputs.npy')\n",
    "test_y = np.load('labeled_data/test_targets.npy')"
   ]
  },
  {
   "cell_type": "code",
   "execution_count": 5,
   "id": "77d4d18e",
   "metadata": {},
   "outputs": [],
   "source": [
    "total_size = 9778\n",
    "input_size = total_size - int(total_size / 11)\n",
    "validation_size = total_size - input_size\n",
    "\n",
    "validation_x = x[input_size:total_size]\n",
    "validation_y = y[input_size:total_size]"
   ]
  },
  {
   "cell_type": "code",
   "execution_count": 6,
   "id": "26f965a7",
   "metadata": {},
   "outputs": [],
   "source": [
    "model = models.Sequential()\n",
    "\n",
    "model.add(layers.Conv2D(16,(3,3),activation='relu',input_shape=x.shape[1:]))\n",
    "model.add(layers.MaxPooling2D((2,2)))\n",
    "\n",
    "model.add(layers.Conv2D(32,(3,3),activation='relu'))\n",
    "model.add(layers.MaxPooling2D((2,2)))\n",
    "\n",
    "model.add(layers.Conv2D(64,(3,3),activation='relu'))\n",
    "model.add(layers.MaxPooling2D((2,2)))"
   ]
  },
  {
   "cell_type": "code",
   "execution_count": 7,
   "id": "78047d6b",
   "metadata": {},
   "outputs": [
    {
     "name": "stdout",
     "output_type": "stream",
     "text": [
      "Model: \"sequential\"\n",
      "_________________________________________________________________\n",
      " Layer (type)                Output Shape              Param #   \n",
      "=================================================================\n",
      " conv2d (Conv2D)             (None, 198, 198, 16)      448       \n",
      "                                                                 \n",
      " max_pooling2d (MaxPooling2D  (None, 99, 99, 16)       0         \n",
      " )                                                               \n",
      "                                                                 \n",
      " conv2d_1 (Conv2D)           (None, 97, 97, 32)        4640      \n",
      "                                                                 \n",
      " max_pooling2d_1 (MaxPooling  (None, 48, 48, 32)       0         \n",
      " 2D)                                                             \n",
      "                                                                 \n",
      " conv2d_2 (Conv2D)           (None, 46, 46, 64)        18496     \n",
      "                                                                 \n",
      " max_pooling2d_2 (MaxPooling  (None, 23, 23, 64)       0         \n",
      " 2D)                                                             \n",
      "                                                                 \n",
      " flatten (Flatten)           (None, 33856)             0         \n",
      "                                                                 \n",
      " dense (Dense)               (None, 200)               6771400   \n",
      "                                                                 \n",
      " dense_1 (Dense)             (None, 200)               40200     \n",
      "                                                                 \n",
      " dense_2 (Dense)             (None, 200)               40200     \n",
      "                                                                 \n",
      " dense_3 (Dense)             (None, 200)               40200     \n",
      "                                                                 \n",
      " dense_4 (Dense)             (None, 99)                19899     \n",
      "                                                                 \n",
      "=================================================================\n",
      "Total params: 6,935,483\n",
      "Trainable params: 6,935,483\n",
      "Non-trainable params: 0\n",
      "_________________________________________________________________\n"
     ]
    }
   ],
   "source": [
    "model.add(layers.Flatten())\n",
    "model.add(layers.Dense(200,activation='relu'))\n",
    "model.add(layers.Dense(200,activation='relu'))\n",
    "model.add(layers.Dense(200,activation='relu'))\n",
    "model.add(layers.Dense(200,activation='relu'))\n",
    "model.add(layers.Dense(99,activation='softmax'))\n",
    "\n",
    "model.summary()"
   ]
  },
  {
   "cell_type": "code",
   "execution_count": null,
   "id": "37de4e85",
   "metadata": {},
   "outputs": [],
   "source": [
    "model.compile(optimizer='adam',loss=tf.keras.losses.CategoricalCrossentropy(), metrics=['accuracy'])\n",
    "model.fit(x, y, validation_data=(validation_x,validation_y), epochs=50, verbose=1)"
   ]
  },
  {
   "cell_type": "code",
   "execution_count": null,
   "id": "59764a9d",
   "metadata": {},
   "outputs": [],
   "source": [
    "yHat = model.predict_on_batch(test_x)"
   ]
  },
  {
   "cell_type": "code",
   "execution_count": null,
   "id": "b58d126a",
   "metadata": {},
   "outputs": [],
   "source": [
    "test_loss, test_accuracy = model.evaluate(test_x, test_y, verbose=2)"
   ]
  },
  {
   "cell_type": "code",
   "execution_count": null,
   "id": "9de350a4",
   "metadata": {},
   "outputs": [],
   "source": [
    "model.save('model_10_0_29.h5')"
   ]
  },
  {
   "cell_type": "code",
   "execution_count": null,
   "id": "544d5777",
   "metadata": {},
   "outputs": [],
   "source": [
    "import pandas as pd\n",
    "\n",
    "pred_value = []\n",
    "actual_value = []\n",
    "\n",
    "for i in range(99):\n",
    "    target = np.where(test_y[i] == np.amax(test_y[i]))[0] + 1    \n",
    "    pred = np.where(yHat[i] == np.amax(yHat[i]))[0] + 1\n",
    "    \n",
    "    pred_value.append(pred)\n",
    "    actual_value.append(target)\n",
    "    \n",
    "pred_table = pd.DataFrame({'Target Age': actual_value, 'Prediction Age': pred_value})\n",
    "pred_table"
   ]
  },
  {
   "cell_type": "code",
   "execution_count": null,
   "id": "42d8c1d7",
   "metadata": {},
   "outputs": [],
   "source": []
  }
 ],
 "metadata": {
  "kernelspec": {
   "display_name": "TF Alpha",
   "language": "python",
   "name": "tf_alpha"
  },
  "language_info": {
   "codemirror_mode": {
    "name": "ipython",
    "version": 3
   },
   "file_extension": ".py",
   "mimetype": "text/x-python",
   "name": "python",
   "nbconvert_exporter": "python",
   "pygments_lexer": "ipython3",
   "version": "3.7.13"
  }
 },
 "nbformat": 4,
 "nbformat_minor": 5
}
