{
 "cells": [
  {
   "cell_type": "code",
   "execution_count": 1,
   "id": "c3da4323",
   "metadata": {},
   "outputs": [],
   "source": [
    "import cv2\n",
    "import numpy as np\n",
    "import tensorflow as tf"
   ]
  },
  {
   "cell_type": "code",
   "execution_count": 76,
   "id": "f7f494ae",
   "metadata": {},
   "outputs": [],
   "source": [
    "def pre_process_image(img):\n",
    "    img = cv2.resize(img,(200,200))\n",
    "    \n",
    "    return img\n",
    "\n",
    "def get_age(yHat):\n",
    "    pred = np.where(yHat[0] == np.amax(yHat))[0] + 1\n",
    "    return pred"
   ]
  },
  {
   "cell_type": "code",
   "execution_count": 2,
   "id": "cc154eed",
   "metadata": {},
   "outputs": [],
   "source": [
    "model = tf.keras.models.load_model('model_95.h5')"
   ]
  },
  {
   "cell_type": "code",
   "execution_count": 84,
   "id": "490acdf4",
   "metadata": {},
   "outputs": [],
   "source": [
    "img = cv2.imread('random11.png')"
   ]
  },
  {
   "cell_type": "code",
   "execution_count": 85,
   "id": "dc1e68b5",
   "metadata": {},
   "outputs": [],
   "source": [
    "p_img = pre_process_image(img)"
   ]
  },
  {
   "cell_type": "code",
   "execution_count": 86,
   "id": "70763d4a",
   "metadata": {},
   "outputs": [],
   "source": [
    "yHat = model.predict_on_batch(np.array([p_img]))"
   ]
  },
  {
   "cell_type": "code",
   "execution_count": 87,
   "id": "6e71b95a",
   "metadata": {},
   "outputs": [],
   "source": [
    "pred = get_age(yHat)"
   ]
  },
  {
   "cell_type": "code",
   "execution_count": 88,
   "id": "103159b1",
   "metadata": {},
   "outputs": [
    {
     "data": {
      "text/plain": [
       "array([[0., 0., 0., 0., 0., 0., 0., 0., 0., 0., 0., 0., 0., 0., 0., 0.,\n",
       "        0., 0., 0., 0., 0., 0., 0., 0., 0., 0., 0., 0., 0., 0., 0., 0.,\n",
       "        0., 0., 0., 0., 0., 0., 0., 0., 0., 0., 0., 0., 0., 0., 0., 0.,\n",
       "        0., 0., 0., 0., 0., 0., 0., 0., 0., 0., 0., 0., 0., 0., 0., 0.,\n",
       "        0., 0., 0., 0., 0., 0., 0., 0., 0., 0., 0., 0., 0., 0., 0., 0.,\n",
       "        0., 0., 0., 1., 0., 0., 0., 0., 0., 0., 0., 0., 0., 0., 0., 0.,\n",
       "        0., 0., 0.]], dtype=float32)"
      ]
     },
     "execution_count": 88,
     "metadata": {},
     "output_type": "execute_result"
    }
   ],
   "source": [
    "yHat.round(3)"
   ]
  },
  {
   "cell_type": "code",
   "execution_count": 89,
   "id": "183671e5",
   "metadata": {},
   "outputs": [
    {
     "data": {
      "text/plain": [
       "array([84])"
      ]
     },
     "execution_count": 89,
     "metadata": {},
     "output_type": "execute_result"
    }
   ],
   "source": [
    "pred"
   ]
  }
 ],
 "metadata": {
  "kernelspec": {
   "display_name": "TF Alpha",
   "language": "python",
   "name": "tf_alpha"
  },
  "language_info": {
   "codemirror_mode": {
    "name": "ipython",
    "version": 3
   },
   "file_extension": ".py",
   "mimetype": "text/x-python",
   "name": "python",
   "nbconvert_exporter": "python",
   "pygments_lexer": "ipython3",
   "version": "3.7.13"
  }
 },
 "nbformat": 4,
 "nbformat_minor": 5
}
